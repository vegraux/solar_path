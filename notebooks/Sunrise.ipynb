{
 "cells": [
  {
   "cell_type": "code",
   "execution_count": 1,
   "metadata": {},
   "outputs": [],
   "source": [
    "import numpy as np\n",
    "import plotly.graph_objects as go\n",
    "import pandas as pd\n",
    "import pvlib\n",
    "from pvlib import solarposition\n",
    "import plotly.io as pio\n",
    "pio.renderers.default = \"iframe\""
   ]
  },
  {
   "cell_type": "markdown",
   "metadata": {},
   "source": [
    "# Sunrise, sunset etc"
   ]
  },
  {
   "cell_type": "code",
   "execution_count": 18,
   "metadata": {},
   "outputs": [],
   "source": [
    "day_range = pd.date_range(\"01/01/2020 00:00:00\", \"31/12/2020 00:00:00\", freq=\"D\", tz=\"Europe/Oslo\")\n",
    "#lat, lon = 59.946247, 10.761360 # Oslo\n",
    "lat, lon = 63.420862, 10.502749 # Trondheim\n",
    "\n",
    "data = solarposition.sun_rise_set_transit_spa(day_range, lat, lon)"
   ]
  },
  {
   "cell_type": "code",
   "execution_count": 19,
   "metadata": {},
   "outputs": [
    {
     "data": {
      "text/html": [
       "<div>\n",
       "<style scoped>\n",
       "    .dataframe tbody tr th:only-of-type {\n",
       "        vertical-align: middle;\n",
       "    }\n",
       "\n",
       "    .dataframe tbody tr th {\n",
       "        vertical-align: top;\n",
       "    }\n",
       "\n",
       "    .dataframe thead th {\n",
       "        text-align: right;\n",
       "    }\n",
       "</style>\n",
       "<table border=\"1\" class=\"dataframe\">\n",
       "  <thead>\n",
       "    <tr style=\"text-align: right;\">\n",
       "      <th></th>\n",
       "      <th>sunrise</th>\n",
       "      <th>sunset</th>\n",
       "      <th>transit</th>\n",
       "    </tr>\n",
       "  </thead>\n",
       "  <tbody>\n",
       "    <tr>\n",
       "      <th>2020-01-01 00:00:00+01:00</th>\n",
       "      <td>2020-01-01 09:59:20.152145920+01:00</td>\n",
       "      <td>2020-01-01 14:43:31.156470272+01:00</td>\n",
       "      <td>2020-01-01 12:21:17.937128192+01:00</td>\n",
       "    </tr>\n",
       "    <tr>\n",
       "      <th>2020-01-02 00:00:00+01:00</th>\n",
       "      <td>2020-01-02 09:58:28.131987200+01:00</td>\n",
       "      <td>2020-01-02 14:45:21.243219456+01:00</td>\n",
       "      <td>2020-01-02 12:21:46.236827904+01:00</td>\n",
       "    </tr>\n",
       "    <tr>\n",
       "      <th>2020-01-03 00:00:00+01:00</th>\n",
       "      <td>2020-01-03 09:57:29.252316672+01:00</td>\n",
       "      <td>2020-01-03 14:47:17.465164544+01:00</td>\n",
       "      <td>2020-01-03 12:22:14.178998016+01:00</td>\n",
       "    </tr>\n",
       "    <tr>\n",
       "      <th>2020-01-04 00:00:00+01:00</th>\n",
       "      <td>2020-01-04 09:56:23.719181056+01:00</td>\n",
       "      <td>2020-01-04 14:49:19.554539776+01:00</td>\n",
       "      <td>2020-01-04 12:22:41.733182720+01:00</td>\n",
       "    </tr>\n",
       "    <tr>\n",
       "      <th>2020-01-05 00:00:00+01:00</th>\n",
       "      <td>2020-01-05 09:55:11.747259392+01:00</td>\n",
       "      <td>2020-01-05 14:51:27.237481472+01:00</td>\n",
       "      <td>2020-01-05 12:23:08.870160640+01:00</td>\n",
       "    </tr>\n",
       "  </tbody>\n",
       "</table>\n",
       "</div>"
      ],
      "text/plain": [
       "                                                      sunrise  \\\n",
       "2020-01-01 00:00:00+01:00 2020-01-01 09:59:20.152145920+01:00   \n",
       "2020-01-02 00:00:00+01:00 2020-01-02 09:58:28.131987200+01:00   \n",
       "2020-01-03 00:00:00+01:00 2020-01-03 09:57:29.252316672+01:00   \n",
       "2020-01-04 00:00:00+01:00 2020-01-04 09:56:23.719181056+01:00   \n",
       "2020-01-05 00:00:00+01:00 2020-01-05 09:55:11.747259392+01:00   \n",
       "\n",
       "                                                       sunset  \\\n",
       "2020-01-01 00:00:00+01:00 2020-01-01 14:43:31.156470272+01:00   \n",
       "2020-01-02 00:00:00+01:00 2020-01-02 14:45:21.243219456+01:00   \n",
       "2020-01-03 00:00:00+01:00 2020-01-03 14:47:17.465164544+01:00   \n",
       "2020-01-04 00:00:00+01:00 2020-01-04 14:49:19.554539776+01:00   \n",
       "2020-01-05 00:00:00+01:00 2020-01-05 14:51:27.237481472+01:00   \n",
       "\n",
       "                                                      transit  \n",
       "2020-01-01 00:00:00+01:00 2020-01-01 12:21:17.937128192+01:00  \n",
       "2020-01-02 00:00:00+01:00 2020-01-02 12:21:46.236827904+01:00  \n",
       "2020-01-03 00:00:00+01:00 2020-01-03 12:22:14.178998016+01:00  \n",
       "2020-01-04 00:00:00+01:00 2020-01-04 12:22:41.733182720+01:00  \n",
       "2020-01-05 00:00:00+01:00 2020-01-05 12:23:08.870160640+01:00  "
      ]
     },
     "execution_count": 19,
     "metadata": {},
     "output_type": "execute_result"
    }
   ],
   "source": [
    "data.head()"
   ]
  },
  {
   "cell_type": "code",
   "execution_count": 20,
   "metadata": {},
   "outputs": [],
   "source": [
    "hour_function = lambda x: pd.to_datetime(x.strftime(format='%H:%M:%S'), format='%H:%M:%S')\n",
    "data[\"sunrise_hour\"] = data[\"sunrise\"].apply(hour_function)\n",
    "data[\"sunset_hour\"] = data[\"sunset\"].apply(hour_function)\n",
    "data[\"transit_hour\"] = data[\"transit\"].apply(hour_function)\n",
    "data[\"length_of_day\"] = data[\"sunset_hour\"] - data[\"sunrise_hour\"] + pd.to_datetime(\"1900-01-01\")"
   ]
  },
  {
   "cell_type": "code",
   "execution_count": 21,
   "metadata": {},
   "outputs": [
    {
     "data": {
      "text/html": [
       "<iframe\n",
       "    scrolling=\"no\"\n",
       "    width=\"100%\"\n",
       "    height=\"820\"\n",
       "    src=\"iframe_figures/figure_21.html\"\n",
       "    frameborder=\"0\"\n",
       "    allowfullscreen\n",
       "></iframe>\n"
      ]
     },
     "metadata": {},
     "output_type": "display_data"
    }
   ],
   "source": [
    "fig = go.Figure()\n",
    "sunrise_trace = go.Scatter(x=data.index, y=data[\"sunrise_hour\"], name= \"Soloppgang\", showlegend=True)\n",
    "sunset_trace = go.Scatter(x=data.index, y=data[\"sunset_hour\"], name= \"Solnedgang\", showlegend=True)\n",
    "transit_trace = go.Scatter(x=data.index, y=data[\"transit_hour\"], name= \"Transit\", showlegend=True)\n",
    "fig.add_traces([sunrise_trace, sunset_trace, transit_trace])\n",
    "fig.update_layout(yaxis={'type': 'date', 'tickformat': '%X'}, height=800)"
   ]
  },
  {
   "cell_type": "markdown",
   "metadata": {},
   "source": [
    "# Lengde på dagen\n",
    "Antall timer solen er oppe i løpet av en dag"
   ]
  },
  {
   "cell_type": "code",
   "execution_count": 22,
   "metadata": {},
   "outputs": [
    {
     "data": {
      "text/html": [
       "<iframe\n",
       "    scrolling=\"no\"\n",
       "    width=\"100%\"\n",
       "    height=\"820\"\n",
       "    src=\"iframe_figures/figure_22.html\"\n",
       "    frameborder=\"0\"\n",
       "    allowfullscreen\n",
       "></iframe>\n"
      ]
     },
     "metadata": {},
     "output_type": "display_data"
    }
   ],
   "source": [
    "fig = go.Figure()\n",
    "daylength_trace = go.Scatter(x=data.index, y=data[\"length_of_day\"], name= \"Lengde på dag\", showlegend=True)\n",
    "fig.add_trace(daylength_trace)\n",
    "fig.update_layout(yaxis={'type': 'date', 'tickformat': '%X'}, height=800, title=\"Timer solen er oppe\")"
   ]
  },
  {
   "cell_type": "code",
   "execution_count": 23,
   "metadata": {},
   "outputs": [
    {
     "data": {
      "text/plain": [
       "Timedelta('0 days 12:27:30.335177')"
      ]
     },
     "execution_count": 23,
     "metadata": {},
     "output_type": "execute_result"
    }
   ],
   "source": [
    "(data[\"sunset\"]- data[\"sunrise\"]).mean()"
   ]
  },
  {
   "cell_type": "code",
   "execution_count": 15,
   "metadata": {},
   "outputs": [
    {
     "data": {
      "text/plain": [
       "Timedelta('0 days 12:22:00.041665')"
      ]
     },
     "execution_count": 15,
     "metadata": {},
     "output_type": "execute_result"
    }
   ],
   "source": [
    "(data[\"sunset\"]- data[\"sunrise\"]).mean()"
   ]
  }
 ],
 "metadata": {
  "kernelspec": {
   "display_name": "Python 3",
   "language": "python",
   "name": "python3"
  },
  "language_info": {
   "codemirror_mode": {
    "name": "ipython",
    "version": 3
   },
   "file_extension": ".py",
   "mimetype": "text/x-python",
   "name": "python",
   "nbconvert_exporter": "python",
   "pygments_lexer": "ipython3",
   "version": "3.7.4"
  }
 },
 "nbformat": 4,
 "nbformat_minor": 4
}
