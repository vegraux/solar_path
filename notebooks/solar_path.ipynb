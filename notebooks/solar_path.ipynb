{
 "cells": [
  {
   "cell_type": "code",
   "execution_count": 1,
   "metadata": {},
   "outputs": [],
   "source": [
    "from math import radians\n",
    "\n",
    "import numpy as np\n",
    "import plotly.graph_objects as go\n",
    "import pandas as pd\n",
    "import folium\n",
    "import pvlib\n",
    "from pvlib import solarposition\n"
   ]
  },
  {
   "cell_type": "code",
   "execution_count": 2,
   "metadata": {},
   "outputs": [],
   "source": [
    "import plotly.io as pio\n",
    "pio.renderers.default = \"iframe\""
   ]
  },
  {
   "cell_type": "code",
   "execution_count": 26,
   "metadata": {},
   "outputs": [],
   "source": [
    "year_range = pd.date_range(\"01/01/2020 00:00:00\", \"31/12/2020 00:00:00\", freq=\"H\", tz=\"Europe/Oslo\")\n",
    "lat, lon = 59.946247,10.761360\n",
    "data = solarposition.get_solarposition(year_range,lat, lon)"
   ]
  },
  {
   "cell_type": "code",
   "execution_count": null,
   "metadata": {},
   "outputs": [],
   "source": []
  },
  {
   "cell_type": "code",
   "execution_count": 4,
   "metadata": {},
   "outputs": [],
   "source": [
    "def create_year_data(base_year=2020):\n",
    "    year_range = pd.date_range(f\"01/01/{base_year} 00:00:00\", f\"31/12/{base_year} 00:00:00\", freq=\"H\", tz=\"Europe/Oslo\")\n",
    "    lat, lon = 59.946247,10.761360\n",
    "    data = solarposition.get_solarposition(year_range,lat, lon)\n",
    "    return data"
   ]
  },
  {
   "cell_type": "code",
   "execution_count": 27,
   "metadata": {},
   "outputs": [],
   "source": [
    "def create_today_data(date=\"2020.02.05\", lat=59.946247, lon=10.761360, c=0.001):\n",
    "    data = create_year_data(date.split(\".\")[0])\n",
    "    sun_hours = data[data[\"elevation\"] > 0]\n",
    "    today_data = sun_hours.loc[date]\n",
    "    lon_factor = 1/np.cos(np.radians(lat))\n",
    "    today_data[\"lat\"] = lat + c*np.cos(np.radians(today_data[\"azimuth\"]))*np.cos(np.radians(today_data[\"elevation\"]))\n",
    "    today_data[\"lon\"] = lon + c*lon_factor*np.sin(np.radians(today_data[\"azimuth\"]))*np.cos(np.radians(today_data[\"elevation\"]))\n",
    "\n",
    "    return today_data\n",
    "    "
   ]
  },
  {
   "cell_type": "code",
   "execution_count": 47,
   "metadata": {},
   "outputs": [],
   "source": [
    "def create_map(date=\"2020.02.05\", lat=59.946247, lon=10.761360):\n",
    "    today_data = create_today_data(date=date)\n",
    "    hours = [str(hour) for hour in today_data.index.hour]\n",
    "    mapbox_access_token = open(\"mapbox_token.txt\").read()\n",
    "\n",
    "    fig = go.Figure(go.Scattermapbox(\n",
    "            lat=today_data[\"lat\"],\n",
    "            lon=today_data[\"lon\"],\n",
    "            mode='markers+text',\n",
    "            marker=go.scattermapbox.Marker(\n",
    "                size=22,\n",
    "                color=\"orange\"\n",
    "            ),\n",
    "            text=hours,\n",
    "            name = \"Hour of the day\",\n",
    "            textfont=dict(\n",
    "            family=\"sans serif\",\n",
    "            size=18,\n",
    "            color=\"black\"\n",
    "            )\n",
    "        ))\n",
    "\n",
    "    fig.add_trace(go.Scattermapbox(\n",
    "            lat=[lat],\n",
    "            lon=[lon],\n",
    "            mode='markers+text',\n",
    "            name = \"Position\",\n",
    "            marker=go.scattermapbox.Marker(\n",
    "                size=14,\n",
    "                color=\"blue\"\n",
    "            )\n",
    "        ))\n",
    "\n",
    "    fig.update_layout(\n",
    "        autosize=True,\n",
    "        hovermode='closest',\n",
    "        height=700,\n",
    "        mapbox=go.layout.Mapbox(\n",
    "            accesstoken=mapbox_access_token,\n",
    "            bearing=0,\n",
    "            center=go.layout.mapbox.Center(\n",
    "                lat=lat,\n",
    "                lon=lon\n",
    "            ),\n",
    "            pitch=0,\n",
    "            zoom=16\n",
    "        ),\n",
    "    )\n",
    "\n",
    "    fig.show()"
   ]
  },
  {
   "cell_type": "code",
   "execution_count": 49,
   "metadata": {},
   "outputs": [
    {
     "data": {
      "text/html": [
       "<iframe\n",
       "    scrolling=\"no\"\n",
       "    width=\"100%\"\n",
       "    height=\"720\"\n",
       "    src=\"iframe_figures/figure_49.html\"\n",
       "    frameborder=\"0\"\n",
       "    allowfullscreen\n",
       "></iframe>\n"
      ]
     },
     "metadata": {},
     "output_type": "display_data"
    }
   ],
   "source": [
    "create_map(date=\"2020.08.27\")"
   ]
  },
  {
   "cell_type": "code",
   "execution_count": null,
   "metadata": {},
   "outputs": [],
   "source": []
  },
  {
   "cell_type": "code",
   "execution_count": null,
   "metadata": {},
   "outputs": [],
   "source": [
    "mapbox_access_token = open(\"mapbox_token.txt\").read()\n",
    "\n",
    "fig = go.Figure(go.Scattermapbox(\n",
    "        lat=today_data[\"lat\"],\n",
    "        lon=today_data[\"lon\"],\n",
    "        mode='markers+text',\n",
    "        marker=go.scattermapbox.Marker(\n",
    "            size=22,\n",
    "            color=\"orange\"\n",
    "        ),\n",
    "        text=hours,\n",
    "        textfont=dict(\n",
    "        family=\"sans serif\",\n",
    "        size=18,\n",
    "        color=\"black\"\n",
    "    )\n",
    "    ))\n",
    "\n",
    "fig.add_trace(go.Scattermapbox(\n",
    "        lat=[lat],\n",
    "        lon=[lon],\n",
    "        mode='markers+text',\n",
    "        marker=go.scattermapbox.Marker(\n",
    "            size=22,\n",
    "            color=\"black\"\n",
    "        )\n",
    "    ))\n",
    "\n",
    "fig.update_layout(\n",
    "    autosize=True,\n",
    "    hovermode='closest',\n",
    "    height=700,\n",
    "    mapbox=go.layout.Mapbox(\n",
    "        accesstoken=mapbox_access_token,\n",
    "        bearing=0,\n",
    "        center=go.layout.mapbox.Center(\n",
    "            lat=lat,\n",
    "            lon=lon\n",
    "        ),\n",
    "        pitch=0,\n",
    "        zoom=17\n",
    "    ),\n",
    ")\n",
    "\n",
    "fig.show()"
   ]
  }
 ],
 "metadata": {
  "kernelspec": {
   "display_name": "Python 3",
   "language": "python",
   "name": "python3"
  },
  "language_info": {
   "codemirror_mode": {
    "name": "ipython",
    "version": 3
   },
   "file_extension": ".py",
   "mimetype": "text/x-python",
   "name": "python",
   "nbconvert_exporter": "python",
   "pygments_lexer": "ipython3",
   "version": "3.7.4"
  }
 },
 "nbformat": 4,
 "nbformat_minor": 4
}
