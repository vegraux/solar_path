{
 "cells": [
  {
   "cell_type": "code",
   "execution_count": 59,
   "metadata": {},
   "outputs": [],
   "source": [
    "from math import radians\n",
    "\n",
    "import numpy as np\n",
    "import plotly.graph_objects as go\n",
    "import pandas as pd\n",
    "import pvlib\n",
    "from pvlib import solarposition\n"
   ]
  },
  {
   "cell_type": "code",
   "execution_count": 60,
   "metadata": {},
   "outputs": [],
   "source": [
    "import plotly.io as pio\n",
    "pio.renderers.default = \"iframe\""
   ]
  },
  {
   "cell_type": "code",
   "execution_count": 61,
   "metadata": {},
   "outputs": [],
   "source": [
    "year_range = pd.date_range(\"01/01/2020 00:00:00\", \"31/12/2020 00:00:00\", freq=\"H\", tz=\"Europe/Oslo\")\n",
    "lat, lon = 59.946247,10.761360\n",
    "data = solarposition.get_solarposition(year_range,lat, lon)"
   ]
  },
  {
   "cell_type": "code",
   "execution_count": 62,
   "metadata": {},
   "outputs": [
    {
     "data": {
      "text/html": [
       "<div>\n",
       "<style scoped>\n",
       "    .dataframe tbody tr th:only-of-type {\n",
       "        vertical-align: middle;\n",
       "    }\n",
       "\n",
       "    .dataframe tbody tr th {\n",
       "        vertical-align: top;\n",
       "    }\n",
       "\n",
       "    .dataframe thead th {\n",
       "        text-align: right;\n",
       "    }\n",
       "</style>\n",
       "<table border=\"1\" class=\"dataframe\">\n",
       "  <thead>\n",
       "    <tr style=\"text-align: right;\">\n",
       "      <th></th>\n",
       "      <th>apparent_zenith</th>\n",
       "      <th>zenith</th>\n",
       "      <th>apparent_elevation</th>\n",
       "      <th>elevation</th>\n",
       "      <th>azimuth</th>\n",
       "      <th>equation_of_time</th>\n",
       "    </tr>\n",
       "  </thead>\n",
       "  <tbody>\n",
       "    <tr>\n",
       "      <th>2020-01-01 00:00:00+01:00</th>\n",
       "      <td>142.949853</td>\n",
       "      <td>142.949853</td>\n",
       "      <td>-52.949853</td>\n",
       "      <td>-52.949853</td>\n",
       "      <td>352.344323</td>\n",
       "      <td>-3.061851</td>\n",
       "    </tr>\n",
       "    <tr>\n",
       "      <th>2020-01-01 01:00:00+01:00</th>\n",
       "      <td>142.452243</td>\n",
       "      <td>142.452243</td>\n",
       "      <td>-52.452243</td>\n",
       "      <td>-52.452243</td>\n",
       "      <td>15.183254</td>\n",
       "      <td>-3.081724</td>\n",
       "    </tr>\n",
       "    <tr>\n",
       "      <th>2020-01-01 02:00:00+01:00</th>\n",
       "      <td>139.172168</td>\n",
       "      <td>139.172168</td>\n",
       "      <td>-49.172168</td>\n",
       "      <td>-49.172168</td>\n",
       "      <td>36.472129</td>\n",
       "      <td>-3.101587</td>\n",
       "    </tr>\n",
       "    <tr>\n",
       "      <th>2020-01-01 03:00:00+01:00</th>\n",
       "      <td>133.793610</td>\n",
       "      <td>133.793610</td>\n",
       "      <td>-43.793610</td>\n",
       "      <td>-43.793610</td>\n",
       "      <td>54.986541</td>\n",
       "      <td>-3.121441</td>\n",
       "    </tr>\n",
       "    <tr>\n",
       "      <th>2020-01-01 04:00:00+01:00</th>\n",
       "      <td>127.113558</td>\n",
       "      <td>127.113558</td>\n",
       "      <td>-37.113558</td>\n",
       "      <td>-37.113558</td>\n",
       "      <td>70.893202</td>\n",
       "      <td>-3.141287</td>\n",
       "    </tr>\n",
       "  </tbody>\n",
       "</table>\n",
       "</div>"
      ],
      "text/plain": [
       "                           apparent_zenith      zenith  apparent_elevation  \\\n",
       "2020-01-01 00:00:00+01:00       142.949853  142.949853          -52.949853   \n",
       "2020-01-01 01:00:00+01:00       142.452243  142.452243          -52.452243   \n",
       "2020-01-01 02:00:00+01:00       139.172168  139.172168          -49.172168   \n",
       "2020-01-01 03:00:00+01:00       133.793610  133.793610          -43.793610   \n",
       "2020-01-01 04:00:00+01:00       127.113558  127.113558          -37.113558   \n",
       "\n",
       "                           elevation     azimuth  equation_of_time  \n",
       "2020-01-01 00:00:00+01:00 -52.949853  352.344323         -3.061851  \n",
       "2020-01-01 01:00:00+01:00 -52.452243   15.183254         -3.081724  \n",
       "2020-01-01 02:00:00+01:00 -49.172168   36.472129         -3.101587  \n",
       "2020-01-01 03:00:00+01:00 -43.793610   54.986541         -3.121441  \n",
       "2020-01-01 04:00:00+01:00 -37.113558   70.893202         -3.141287  "
      ]
     },
     "execution_count": 62,
     "metadata": {},
     "output_type": "execute_result"
    }
   ],
   "source": [
    "data.head()"
   ]
  },
  {
   "cell_type": "code",
   "execution_count": 63,
   "metadata": {},
   "outputs": [],
   "source": [
    "def create_year_data(base_year=2020):\n",
    "    year_range = pd.date_range(f\"01/01/{base_year} 00:00:00\", f\"31/12/{base_year} 00:00:00\", freq=\"H\", tz=\"Europe/Oslo\")\n",
    "    lat, lon = 59.946247,10.761360\n",
    "    data = solarposition.get_solarposition(year_range,lat, lon)\n",
    "    return data"
   ]
  },
  {
   "cell_type": "code",
   "execution_count": 64,
   "metadata": {},
   "outputs": [],
   "source": [
    "def create_today_data(date=\"2020.02.05\", lat=59.946247, lon=10.761360, c=0.001):\n",
    "    data = create_year_data(date.split(\".\")[0])\n",
    "    sun_hours = data[data[\"elevation\"] > 0]\n",
    "    today_data = sun_hours.loc[date]\n",
    "    lon_factor = 1/np.cos(np.radians(lat))\n",
    "    today_data[\"lat\"] = lat + c*np.cos(np.radians(today_data[\"azimuth\"]))*np.cos(np.radians(today_data[\"elevation\"]))\n",
    "    today_data[\"lon\"] = lon + c*lon_factor*np.sin(np.radians(today_data[\"azimuth\"]))*np.cos(np.radians(today_data[\"elevation\"]))\n",
    "\n",
    "    return today_data\n",
    "    "
   ]
  },
  {
   "cell_type": "code",
   "execution_count": 66,
   "metadata": {},
   "outputs": [],
   "source": [
    "def create_scattermap(today_data):\n",
    "    hours = [str(hour) for hour in today_data.index.hour]\n",
    "\n",
    "    return go.Scattermapbox(\n",
    "        lat=today_data[\"lat\"],\n",
    "        lon=today_data[\"lon\"],\n",
    "        mode=\"markers+text\",\n",
    "        marker=go.scattermapbox.Marker(size=22, color=\"orange\"),\n",
    "        text=hours,\n",
    "        name=\"Hour of the day\",\n",
    "        textfont=dict(family=\"sans serif\", size=18, color=\"black\"),\n",
    "    )"
   ]
  },
  {
   "cell_type": "code",
   "execution_count": 67,
   "metadata": {
    "jupyter": {
     "source_hidden": true
    }
   },
   "outputs": [],
   "source": [
    "def create_animated_map(lat=59.946247, lon=10.761360):\n",
    "    mapbox_access_token = open(\"mapbox_token.txt\").read()\n",
    "\n",
    "    fig = go.Figure(data=go.Scattermapbox(\n",
    "        lat=[lat],\n",
    "        lon=[lon],\n",
    "        mode='markers+text',\n",
    "        name=\"Position\",\n",
    "        marker=go.scattermapbox.Marker(\n",
    "            size=14,\n",
    "            color=\"blue\"\n",
    "        )\n",
    "    ),\n",
    "        layout=go.Layout(autosize=True,\n",
    "                         hovermode='closest',\n",
    "                         height=700,\n",
    "                         mapbox=go.layout.Mapbox(\n",
    "                             accesstoken=mapbox_access_token,\n",
    "                             bearing=0,\n",
    "                             center=go.layout.mapbox.Center(\n",
    "                                 lat=lat,\n",
    "                                 lon=lon\n",
    "                             ),\n",
    "                             pitch=0,\n",
    "                             zoom=16\n",
    "                         ),\n",
    "                         updatemenus=[dict(type=\"buttons\",\n",
    "                                           buttons=[dict(label=\"Play\",\n",
    "                                                         method=\"animate\",\n",
    "                                                         args=[None])])]),\n",
    "        frames=[go.Frame(\n",
    "            data=[create_scattermap(create_today_data(date)) for date in [\"2020.02.05\",\n",
    "                                                                          \"2020.03.05\",\n",
    "                                                                          \"2020.04.05\",\n",
    "                                                                          \"2020.05.05\",\n",
    "                                                                          \"2020.06.05\"]])\n",
    "        ],\n",
    "    )\n",
    "    fig.show()\n"
   ]
  },
  {
   "cell_type": "code",
   "execution_count": null,
   "metadata": {},
   "outputs": [],
   "source": []
  },
  {
   "cell_type": "code",
   "execution_count": 97,
   "metadata": {},
   "outputs": [],
   "source": [
    "def create_map(date=\"2020.02.05\", lat=59.946247, lon=10.761360):\n",
    "    today_data = create_today_data(date=date)\n",
    "    hours = [str(hour) for hour in today_data.index.hour]\n",
    "    mapbox_access_token = open(\"mapbox_token.txt\").read()\n",
    "\n",
    "    fig = go.Figure(go.Scattermapbox(\n",
    "            lat=today_data[\"lat\"],\n",
    "            lon=today_data[\"lon\"],\n",
    "            mode='markers+text',\n",
    "            marker=go.scattermapbox.Marker(\n",
    "                size=22,\n",
    "                color=\"orange\"\n",
    "            ),\n",
    "            text=hours,\n",
    "            name = \"Hour of the day\",\n",
    "            textfont=dict(\n",
    "            family=\"sans serif\",\n",
    "            size=18,\n",
    "            color=\"black\"\n",
    "            )\n",
    "        ))\n",
    "\n",
    "    fig.add_trace(go.Scattermapbox(\n",
    "            lat=[lat],\n",
    "            lon=[lon],\n",
    "            mode='markers+text',\n",
    "            name = \"Position\",\n",
    "            marker=go.scattermapbox.Marker(\n",
    "                size=14,\n",
    "                color=\"blue\"\n",
    "            )\n",
    "        ))\n",
    "    styles = [\"basic\", \"streets\", \"outdoors\", \"light\", \"dark\", \"satellite\", \"satellite-streets\"]\n",
    "    fig.update_layout(\n",
    "        autosize=True,\n",
    "        hovermode='closest',\n",
    "        height=700,\n",
    "        mapbox=go.layout.Mapbox(\n",
    "            accesstoken=mapbox_access_token,\n",
    "            style=styles[-5],\n",
    "            bearing=0,\n",
    "            center=go.layout.mapbox.Center(\n",
    "                lat=lat,\n",
    "                lon=lon\n",
    "            ),\n",
    "            pitch=0,\n",
    "            zoom=16\n",
    "        ),\n",
    "\n",
    "    )\n",
    "\n",
    "    fig.show()"
   ]
  },
  {
   "cell_type": "code",
   "execution_count": 98,
   "metadata": {},
   "outputs": [
    {
     "data": {
      "text/html": [
       "<iframe\n",
       "    scrolling=\"no\"\n",
       "    width=\"100%\"\n",
       "    height=\"720\"\n",
       "    src=\"iframe_figures/figure_4.html\"\n",
       "    frameborder=\"0\"\n",
       "    allowfullscreen\n",
       "></iframe>\n"
      ]
     },
     "metadata": {},
     "output_type": "display_data"
    }
   ],
   "source": [
    "create_map(date=\"2020.02.27\")"
   ]
  },
  {
   "cell_type": "code",
   "execution_count": null,
   "metadata": {},
   "outputs": [],
   "source": []
  },
  {
   "cell_type": "code",
   "execution_count": 70,
   "metadata": {},
   "outputs": [
    {
     "ename": "NameError",
     "evalue": "name 'today_data' is not defined",
     "output_type": "error",
     "traceback": [
      "\u001b[1;31m---------------------------------------------------------------------------\u001b[0m",
      "\u001b[1;31mNameError\u001b[0m                                 Traceback (most recent call last)",
      "\u001b[1;32m<ipython-input-70-2525d0fc6395>\u001b[0m in \u001b[0;36m<module>\u001b[1;34m\u001b[0m\n\u001b[0;32m      2\u001b[0m \u001b[1;33m\u001b[0m\u001b[0m\n\u001b[0;32m      3\u001b[0m fig = go.Figure(go.Scattermapbox(\n\u001b[1;32m----> 4\u001b[1;33m         \u001b[0mlat\u001b[0m\u001b[1;33m=\u001b[0m\u001b[0mtoday_data\u001b[0m\u001b[1;33m[\u001b[0m\u001b[1;34m\"lat\"\u001b[0m\u001b[1;33m]\u001b[0m\u001b[1;33m,\u001b[0m\u001b[1;33m\u001b[0m\u001b[1;33m\u001b[0m\u001b[0m\n\u001b[0m\u001b[0;32m      5\u001b[0m         \u001b[0mlon\u001b[0m\u001b[1;33m=\u001b[0m\u001b[0mtoday_data\u001b[0m\u001b[1;33m[\u001b[0m\u001b[1;34m\"lon\"\u001b[0m\u001b[1;33m]\u001b[0m\u001b[1;33m,\u001b[0m\u001b[1;33m\u001b[0m\u001b[1;33m\u001b[0m\u001b[0m\n\u001b[0;32m      6\u001b[0m         \u001b[0mmode\u001b[0m\u001b[1;33m=\u001b[0m\u001b[1;34m'markers+text'\u001b[0m\u001b[1;33m,\u001b[0m\u001b[1;33m\u001b[0m\u001b[1;33m\u001b[0m\u001b[0m\n",
      "\u001b[1;31mNameError\u001b[0m: name 'today_data' is not defined"
     ]
    }
   ],
   "source": [
    "mapbox_access_token = open(\"mapbox_token.txt\").read()\n",
    "\n",
    "fig = go.Figure(go.Scattermapbox(\n",
    "        lat=today_data[\"lat\"],\n",
    "        lon=today_data[\"lon\"],\n",
    "        mode='markers+text',\n",
    "        marker=go.scattermapbox.Marker(\n",
    "            size=22,\n",
    "            color=\"orange\"\n",
    "        ),\n",
    "        text=hours,\n",
    "        textfont=dict(\n",
    "        family=\"sans serif\",\n",
    "        size=18,\n",
    "        color=\"black\"\n",
    "    )\n",
    "    ))\n",
    "\n",
    "fig.add_trace(go.Scattermapbox(\n",
    "        lat=[lat],\n",
    "        lon=[lon],\n",
    "        mode='markers+text',\n",
    "        marker=go.scattermapbox.Marker(\n",
    "            size=22,\n",
    "            color=\"black\"\n",
    "        )\n",
    "    ))\n",
    "\n",
    "fig.update_layout(\n",
    "    autosize=True,\n",
    "    hovermode='closest',\n",
    "    height=700,\n",
    "    mapbox=go.layout.Mapbox(\n",
    "        accesstoken=mapbox_access_token,\n",
    "        bearing=0,\n",
    "        center=go.layout.mapbox.Center(\n",
    "            lat=lat,\n",
    "            lon=lon\n",
    "        ),\n",
    "        pitch=0,\n",
    "        zoom=17\n",
    "    ),\n",
    ")\n",
    "\n",
    "fig.show()"
   ]
  }
 ],
 "metadata": {
  "kernelspec": {
   "display_name": "Python 3",
   "language": "python",
   "name": "python3"
  },
  "language_info": {
   "codemirror_mode": {
    "name": "ipython",
    "version": 3
   },
   "file_extension": ".py",
   "mimetype": "text/x-python",
   "name": "python",
   "nbconvert_exporter": "python",
   "pygments_lexer": "ipython3",
   "version": "3.7.4"
  }
 },
 "nbformat": 4,
 "nbformat_minor": 4
}
